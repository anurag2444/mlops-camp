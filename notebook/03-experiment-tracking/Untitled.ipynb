{
 "cells": [
  {
   "cell_type": "code",
   "execution_count": 2,
   "metadata": {},
   "outputs": [],
   "source": [
    "from mlflow.tracking import MlflowClient\n",
    "\n",
    "MLFLOW_TRACKING_URI = \"sqlite:///mlflow.db\"\\\n",
    "\n",
    "client = MlflowClient(tracking_uri=MLFLOW_TRACKING_URI)"
   ]
  },
  {
   "cell_type": "code",
   "execution_count": 7,
   "metadata": {},
   "outputs": [
    {
     "data": {
      "text/plain": [
       "[<Experiment: artifact_location='/workspaces/mlops-camp/notebook/03-experiment-tracking/mlruns/1', creation_time=1716229855130, experiment_id='1', last_update_time=1716229855130, lifecycle_stage='active', name='my-first-experiment', tags={}>]"
      ]
     },
     "execution_count": 7,
     "metadata": {},
     "output_type": "execute_result"
    }
   ],
   "source": [
    "client.search_experiments()"
   ]
  },
  {
   "cell_type": "code",
   "execution_count": 8,
   "metadata": {},
   "outputs": [
    {
     "data": {
      "text/plain": [
       "'2'"
      ]
     },
     "execution_count": 8,
     "metadata": {},
     "output_type": "execute_result"
    }
   ],
   "source": [
    "client.create_experiment(name = \"my_cool_experiment\")"
   ]
  },
  {
   "cell_type": "code",
   "execution_count": 9,
   "metadata": {},
   "outputs": [],
   "source": [
    "from mlflow.entities import ViewType\n",
    "\n",
    "runs = client.search_runs(\n",
    "    experiment_ids='1',\n",
    "    filter_string=\"\",\n",
    "    run_view_type=ViewType.ACTIVE_ONLY,\n",
    "    max_results=5,\n",
    "    order_by=[\"metrics.rmse ASC\"]\n",
    ")"
   ]
  },
  {
   "cell_type": "code",
   "execution_count": 10,
   "metadata": {},
   "outputs": [
    {
     "name": "stdout",
     "output_type": "stream",
     "text": [
      "run id: b7eed26e9ff2495f9b5e92a6deab969a,rmse: 4.965459\n",
      "run id: 12d40f85651c4413974cbd05fef76db3,rmse: 4.965459\n",
      "run id: 13273f90f92e4a4ba02a9518d975ac9a,rmse: 4.965459\n",
      "run id: 20f2ffe1584241d7a76e8e06c54ac3b4,rmse: 4.966782\n",
      "run id: d139c463f53b4287b793d96a81c36266,rmse: 4.976702\n"
     ]
    }
   ],
   "source": [
    "for run in runs:\n",
    "    print(f\"run id: {run.info.run_id},rmse: {run.data.metrics['rmse']:4f}\")"
   ]
  },
  {
   "cell_type": "code",
   "execution_count": 11,
   "metadata": {},
   "outputs": [],
   "source": [
    "import mlflow\n",
    "\n",
    "mlflow.set_tracking_uri(MLFLOW_TRACKING_URI)\n"
   ]
  },
  {
   "cell_type": "code",
   "execution_count": 13,
   "metadata": {},
   "outputs": [
    {
     "name": "stderr",
     "output_type": "stream",
     "text": [
      "Registered model 'first_model_xgboost' already exists. Creating a new version of this model...\n",
      "Created version '1' of model 'first_model_xgboost'.\n"
     ]
    },
    {
     "data": {
      "text/plain": [
       "<ModelVersion: aliases=[], creation_timestamp=1716748174771, current_stage='None', description=None, last_updated_timestamp=1716748174771, name='first_model_xgboost', run_id='13273f90f92e4a4ba02a9518d975ac9a', run_link=None, source='/workspaces/mlops-camp/notebook/03-experiment-tracking/mlruns/1/13273f90f92e4a4ba02a9518d975ac9a/artifacts/model', status='READY', status_message=None, tags={}, user_id=None, version=1>"
      ]
     },
     "execution_count": 13,
     "metadata": {},
     "output_type": "execute_result"
    }
   ],
   "source": [
    "run_id = '13273f90f92e4a4ba02a9518d975ac9a'\n",
    "model_uri = f\"runs:/{run_id}/model\"\n",
    "mlflow.register_model(model_uri=model_uri,name=\"first_model_xgboost\")"
   ]
  },
  {
   "cell_type": "code",
   "execution_count": 15,
   "metadata": {},
   "outputs": [
    {
     "data": {
      "text/plain": [
       "[<RegisteredModel: aliases={}, creation_timestamp=1716748158161, description=None, last_updated_timestamp=1716748327372, latest_versions=[<ModelVersion: aliases=[], creation_timestamp=1716748327372, current_stage='None', description='', last_updated_timestamp=1716748327372, name='first_model_xgboost', run_id='b7eed26e9ff2495f9b5e92a6deab969a', run_link='', source='/workspaces/mlops-camp/notebook/03-experiment-tracking/mlruns/1/b7eed26e9ff2495f9b5e92a6deab969a/artifacts/models_mlflow', status='READY', status_message=None, tags={}, user_id=None, version=2>], name='first_model_xgboost', tags={}>]"
      ]
     },
     "execution_count": 15,
     "metadata": {},
     "output_type": "execute_result"
    }
   ],
   "source": [
    "client.search_registered_models()"
   ]
  },
  {
   "cell_type": "code",
   "execution_count": 22,
   "metadata": {},
   "outputs": [
    {
     "name": "stdout",
     "output_type": "stream",
     "text": [
      "version:2, stage:None\n",
      "version:1, stage:None\n"
     ]
    }
   ],
   "source": [
    "model_name = \"first_model_xgboost\"\n",
    "latest_versions =client.search_model_versions('name'==model_name)\n",
    "\n",
    "for version in latest_versions:\n",
    "    print(f\"version:{version.version}, stage:{version.current_stage}\")\n",
    "\n"
   ]
  },
  {
   "cell_type": "code",
   "execution_count": 24,
   "metadata": {},
   "outputs": [
    {
     "name": "stderr",
     "output_type": "stream",
     "text": [
      "/tmp/ipykernel_17912/1796233148.py:1: FutureWarning: ``mlflow.tracking.client.MlflowClient.transition_model_version_stage`` is deprecated since 2.9.0. Model registry stages will be removed in a future major release. To learn more about the deprecation of model registry stages, see our migration guide here: https://mlflow.org/docs/2.12.2/model-registry.html#migrating-from-stages\n",
      "  client.transition_model_version_stage(\n"
     ]
    },
    {
     "data": {
      "text/plain": [
       "<ModelVersion: aliases=[], creation_timestamp=1716748327372, current_stage='Staging', description='', last_updated_timestamp=1716750321652, name='first_model_xgboost', run_id='b7eed26e9ff2495f9b5e92a6deab969a', run_link='', source='/workspaces/mlops-camp/notebook/03-experiment-tracking/mlruns/1/b7eed26e9ff2495f9b5e92a6deab969a/artifacts/models_mlflow', status='READY', status_message=None, tags={}, user_id=None, version=2>"
      ]
     },
     "execution_count": 24,
     "metadata": {},
     "output_type": "execute_result"
    }
   ],
   "source": [
    "client.transition_model_version_stage(\n",
    "    name=model_name,\n",
    "    version=2,\n",
    "    stage='Staging',\n",
    "    archive_existing_versions=True\n",
    "\n",
    ")"
   ]
  },
  {
   "cell_type": "code",
   "execution_count": 27,
   "metadata": {},
   "outputs": [
    {
     "data": {
      "text/plain": [
       "<ModelVersion: aliases=[], creation_timestamp=1716748327372, current_stage='Staging', description='The model version 2 was transitioned to staging on 2024-05-26', last_updated_timestamp=1716751349270, name='first_model_xgboost', run_id='b7eed26e9ff2495f9b5e92a6deab969a', run_link='', source='/workspaces/mlops-camp/notebook/03-experiment-tracking/mlruns/1/b7eed26e9ff2495f9b5e92a6deab969a/artifacts/models_mlflow', status='READY', status_message=None, tags={}, user_id=None, version=2>"
      ]
     },
     "execution_count": 27,
     "metadata": {},
     "output_type": "execute_result"
    }
   ],
   "source": [
    "from datetime import datetime\n",
    "model_version=2\n",
    "new_stage ='staging'\n",
    "date = datetime.today().date()\n",
    "\n",
    "client.update_model_version(\n",
    "    name=model_name,\n",
    "    version=model_version,\n",
    "    description=f\"The model version {model_version} was transitioned to {new_stage} on {date}\"\n",
    ")"
   ]
  },
  {
   "cell_type": "code",
   "execution_count": null,
   "metadata": {},
   "outputs": [],
   "source": []
  }
 ],
 "metadata": {
  "kernelspec": {
   "display_name": "Python 3",
   "language": "python",
   "name": "python3"
  },
  "language_info": {
   "codemirror_mode": {
    "name": "ipython",
    "version": 3
   },
   "file_extension": ".py",
   "mimetype": "text/x-python",
   "name": "python",
   "nbconvert_exporter": "python",
   "pygments_lexer": "ipython3",
   "version": "3.10.13"
  }
 },
 "nbformat": 4,
 "nbformat_minor": 2
}
